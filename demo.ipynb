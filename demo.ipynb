{
 "cells": [
  {
   "cell_type": "markdown",
   "metadata": {},
   "source": [
    "## Demos of ErrorHandle and Preflight Checks\n",
    "This notebook demonstrates three ways of messaging a script's user regarding error conditions including performing preflight checks on an input DataFrame as a special case. The ErrorHandle class manages checking and reporting ad hoc conditions within a program. Preflight (preflight.py) is a special case whose methods use ErrorHandle to report problems from prechecks of input files (preflight.CheckExcelFiles class) and input DataFrames (preflight.CheckDataFrame class). All use cases rely on the table in admin file ErrorCodes.xlsx to look up messages. </br></br>\n",
    "JDL 2/12/24; Version 8/30/24"
   ]
  },
  {
   "cell_type": "code",
   "execution_count": 1,
   "metadata": {},
   "outputs": [],
   "source": [
    "import os, sys\n",
    "# Suppress Intel MKL warning with latest Pandas\n",
    "os.environ['MKL_SERVICE_FORCE_INTEL'] = '1'\n",
    "\n",
    "import pandas as pd\n",
    "import logging\n",
    "logging.basicConfig(level=logging.ERROR, filename='demo.log', format='%(message)s')\n",
    "\n",
    "#Use ErrorCodes.xlsx in the libs directory\n",
    "path_libs = os.getcwd() + os.sep + 'libs' + os.sep\n",
    "path_err_codes = os.getcwd() + os.sep + 'libs' + os.sep\n",
    "\n",
    "#Add the libs and tests subdirectory to sys.path\n",
    "if not path_err_codes in sys.path: sys.path.append(path_err_codes)\n",
    "if not path_libs in sys.path: sys.path.append(path_libs)\n",
    "\n",
    "#Import needed modules\n",
    "from libs.error_handling import ErrorHandle\n",
    "from libs.preflight import CheckDataFrame\n",
    "from libs.projtables import Table\n",
    "from libs.projtables import ProjectTables\n",
    "import util"
   ]
  },
  {
   "cell_type": "markdown",
   "metadata": {},
   "source": [
    "### Case 1: Error Handling in procedural code\n",
    "* Instance ErrorHandle class to use for checking conditions during processing\n",
    "* Set .Locn for error message lookup by code. Base and error-specific rows are in ErrorCodes.xlsx\n",
    "* This example illustrates using Python logging to write to a log file (demo.log initialized above in the `logging.basicConfig()` command). It reinitializes the file at the beginning of the cell\n"
   ]
  },
  {
   "cell_type": "code",
   "execution_count": 2,
   "metadata": {},
   "outputs": [
    {
     "name": "stdout",
     "output_type": "stream",
     "text": [
      "Procedural Demo\n",
      "ERROR: x + y should be less than or equal to 4. Sum: 5\n"
     ]
    }
   ],
   "source": [
    "\"\"\"\n",
    "ErrorHandle is designed to make it easy to add and maintain error checks.\n",
    "In errs.is_fail below, the first argument is a Boolean check that evaluates to True \n",
    "in case of error. \"1\" is routine-specific error code aka errs.iCodeLocal. errs.RecordErr \n",
    "method uses errs.Locn to look up errs.iCodeBase base error code in ErrorCodes.xlsx \n",
    "(errs.df_errs). It adds base error code to local error code to get lookup (aka \n",
    "errs.iCodeReport) error code and then looks up the error message. This approach makes \n",
    "it possible to just assign integers 1,2, 3 etc. to the errors in each function \n",
    "--decoupled from their iCodeReport codes in df_errs. The err_param argument is an\n",
    "optional suffix that gets appended to the reported error message --in this case \n",
    "the sum that exceeds the limit of 4.\n",
    "\"\"\"\n",
    "#Instance the ErrrorHandle object\n",
    "errs = ErrorHandle(path_err_codes, ErrMsgHeader='Procedural Demo', IsLog=True)\n",
    "if errs.IsLog: errs.reset_log_file(logging.getLogger())\n",
    "\n",
    "#This string is the lookup key for getting the base error code from ErrorCodes.xlsx\n",
    "errs.Locn = 'ProceduralDemo'\n",
    "\n",
    "# Example code\n",
    "x = 2\n",
    "y = 3\n",
    "sum = x + y\n",
    "\n",
    "#Check that x+ y is less than 4\n",
    "if errs.is_fail(sum > 4, 1, err_param=str(sum)): errs.RecordErr()"
   ]
  },
  {
   "cell_type": "markdown",
   "metadata": {},
   "source": [
    "### Case 2: Error Handling within a Class\n",
    "* Passing Locn argument as util.current_fn() tells .is_fail to look up the error by name of the function where the error occurred\n",
    "* errs is instanced in .__init__()"
   ]
  },
  {
   "cell_type": "code",
   "execution_count": 3,
   "metadata": {},
   "outputs": [
    {
     "name": "stdout",
     "output_type": "stream",
     "text": [
      "Calculated sum is 5\n",
      "Calculated product is 6\n",
      "ERROR: x * y should be less than or equal to 5. Product: 6\n"
     ]
    }
   ],
   "source": [
    "class SumAndProduct():\n",
    "    def __init__(self, path_err_codes, x, y):\n",
    "        self.x = x\n",
    "        self.y = y\n",
    "        self.sum = None\n",
    "        self.product = None\n",
    "        self.errs = ErrorHandle(path_err_codes, ErrMsgHeader='', IsHandle=True, IsLog=True)\n",
    "        if self.errs.IsLog: self.errs.reset_log_file(logging.getLogger())\n",
    "\n",
    "    @property\n",
    "    def procedure_to_do_all_steps(self):\n",
    "        self.calculate_sum()\n",
    "        if not self.errs.IsErr: self.calculate_product()\n",
    "        return self.sum, self.product\n",
    "\n",
    "    def calculate_sum(self):\n",
    "        self.sum = self.x + self.y\n",
    "        print('Calculated sum is', self.sum)\n",
    "        if self.errs.is_fail(self.sum > 6, 1, Locn=util.current_fn(), \\\n",
    "                             err_param=str(self.sum)): self.errs.RecordErr()\n",
    "\n",
    "    def calculate_product(self):\n",
    "        self.product = self.x * self.y\n",
    "        print('Calculated product is', self.product)\n",
    "        if self.errs.is_fail(self.product > 5, 1, Locn=util.current_fn(), \\\n",
    "                             err_param=str(self.product)): self.errs.RecordErr()\n",
    "\n",
    "sum_inputs, prod_inputs = SumAndProduct(path_err_codes, 2, 3).procedure_to_do_all_steps"
   ]
  },
  {
   "cell_type": "markdown",
   "metadata": {},
   "source": [
    "### Case 3: Performing Preflight Checks on Input Data\n",
    "There are two modes for using the CheckDataFrame methods to precheck an input file. In the first, path_error_codes is the only required argument when instancing the CheckDataFrame object. Individual preflight methods require the DataFrame and possibly other optional arguments as inputs."
   ]
  },
  {
   "cell_type": "code",
   "execution_count": 4,
   "metadata": {},
   "outputs": [
    {
     "data": {
      "text/html": [
       "<div>\n",
       "<style scoped>\n",
       "    .dataframe tbody tr th:only-of-type {\n",
       "        vertical-align: middle;\n",
       "    }\n",
       "\n",
       "    .dataframe tbody tr th {\n",
       "        vertical-align: top;\n",
       "    }\n",
       "\n",
       "    .dataframe thead th {\n",
       "        text-align: right;\n",
       "    }\n",
       "</style>\n",
       "<table border=\"1\" class=\"dataframe\">\n",
       "  <thead>\n",
       "    <tr style=\"text-align: right;\">\n",
       "      <th></th>\n",
       "      <th>idx</th>\n",
       "      <th>col_a</th>\n",
       "      <th>col_b</th>\n",
       "    </tr>\n",
       "  </thead>\n",
       "  <tbody>\n",
       "    <tr>\n",
       "      <th>0</th>\n",
       "      <td>idx1</td>\n",
       "      <td>1</td>\n",
       "      <td>10</td>\n",
       "    </tr>\n",
       "    <tr>\n",
       "      <th>1</th>\n",
       "      <td>idx2</td>\n",
       "      <td>2</td>\n",
       "      <td>20</td>\n",
       "    </tr>\n",
       "    <tr>\n",
       "      <th>2</th>\n",
       "      <td>idx3</td>\n",
       "      <td>3</td>\n",
       "      <td>a</td>\n",
       "    </tr>\n",
       "  </tbody>\n",
       "</table>\n",
       "</div>"
      ],
      "text/plain": [
       "    idx  col_a col_b\n",
       "0  idx1      1    10\n",
       "1  idx2      2    20\n",
       "2  idx3      3     a"
      ]
     },
     "execution_count": 4,
     "metadata": {},
     "output_type": "execute_result"
    }
   ],
   "source": [
    "#Create a demo DataFrame\n",
    "df = pd.DataFrame(data={'idx':['idx1', 'idx2', 'idx3'],\n",
    "                        'col_a':[1, 2, 3], \n",
    "                        'col_b':[10, 20, 'a']})\n",
    "df"
   ]
  },
  {
   "cell_type": "code",
   "execution_count": 5,
   "metadata": {},
   "outputs": [
    {
     "name": "stdout",
     "output_type": "stream",
     "text": [
      "ERROR: Column must contain only non-null numeric values: col_b\n"
     ]
    }
   ],
   "source": [
    "\"\"\"\n",
    "preflight.CheckDataFrame Mode 1 - Preflight on df passed as optional argument \n",
    "                                  to specific preflight methods\n",
    "\"\"\"\n",
    "#Instance a CheckDataFrame class with all default arguments\n",
    "ckdf = CheckDataFrame(path_err_codes)\n",
    "\n",
    "#Check that the DataFrame contains (at least) columns col_a and col_b\n",
    "IsOk = ckdf.ContainsRequiredCols(cols_req=['col_a', 'col_b'], df=df)\n",
    "\n",
    "#Check that DataFrame col_b is all numeric (fails because of string value 'a')\n",
    "if IsOk: IsOk = ckdf.ColNumeric('col_b', df=df)\n",
    "\n",
    "#Other programming steps or prefight checks...\n"
   ]
  },
  {
   "cell_type": "code",
   "execution_count": 6,
   "metadata": {},
   "outputs": [
    {
     "name": "stdout",
     "output_type": "stream",
     "text": [
      "DemoData.required_cols ['idx', 'col_a', 'col_b']\n",
      "DemoData.numeric_cols ['col_a', 'col_b']\n",
      "\n",
      "     idx  col_a col_b\n",
      "0  idx1      1    10\n",
      "1  idx2      2    20\n",
      "2  idx3      3     a\n"
     ]
    }
   ],
   "source": [
    "\"\"\"\n",
    "preflight.CheckDataFrame Mode 2 - Data are .df attribute of a custom Table class \n",
    "                                  instance passed to CheckDataFrame as optional argument.\n",
    "                                  \n",
    "See libs/projtables.py for hard-coded setup of this demo.\n",
    "\n",
    "Custom Table objects (projfiles.Table) are convenient containers for df and other \n",
    "table metadata in multi-table projects. Attributes can specify such metadata as how to \n",
    "import df and set its index. These can be initialized in tbls = projtables.ProjectTables.__init__().\n",
    "In our example, this includes initialization code that sets lists for preflight checks: \n",
    "\n",
    "self.DemoData.required_cols = ['idx', 'col_a', 'col_b']\n",
    "self.DemoData.numeric_cols = ['col_a', 'col_b']\n",
    "\n",
    "For this example, instancing a programmatically named Table object enables referring\n",
    "to the table and its data as tbls.DemoData and tbls.DemoData.df throughout the project.\n",
    "\"\"\"\n",
    "\n",
    "#Initialize project's ProjectTables (its __init__() hard codes instancing DemoData Table)\n",
    "tbls = ProjectTables(files=None, lst_files=None)\n",
    "tbls.DemoData.df = df\n",
    "\n",
    "#print Table preflight list attributes and the DataFrame attribute\n",
    "print('DemoData.required_cols', tbls.DemoData.required_cols)\n",
    "print('DemoData.numeric_cols', tbls.DemoData.numeric_cols)\n",
    "print('\\n', tbls.DemoData.df)"
   ]
  },
  {
   "cell_type": "code",
   "execution_count": 7,
   "metadata": {},
   "outputs": [
    {
     "data": {
      "text/html": [
       "<div>\n",
       "<style scoped>\n",
       "    .dataframe tbody tr th:only-of-type {\n",
       "        vertical-align: middle;\n",
       "    }\n",
       "\n",
       "    .dataframe tbody tr th {\n",
       "        vertical-align: top;\n",
       "    }\n",
       "\n",
       "    .dataframe thead th {\n",
       "        text-align: right;\n",
       "    }\n",
       "</style>\n",
       "<table border=\"1\" class=\"dataframe\">\n",
       "  <thead>\n",
       "    <tr style=\"text-align: right;\">\n",
       "      <th></th>\n",
       "      <th>col_a</th>\n",
       "      <th>col_b</th>\n",
       "    </tr>\n",
       "    <tr>\n",
       "      <th>idx</th>\n",
       "      <th></th>\n",
       "      <th></th>\n",
       "    </tr>\n",
       "  </thead>\n",
       "  <tbody>\n",
       "    <tr>\n",
       "      <th>idx1</th>\n",
       "      <td>1</td>\n",
       "      <td>10</td>\n",
       "    </tr>\n",
       "    <tr>\n",
       "      <th>idx2</th>\n",
       "      <td>2</td>\n",
       "      <td>20</td>\n",
       "    </tr>\n",
       "    <tr>\n",
       "      <th>idx3</th>\n",
       "      <td>3</td>\n",
       "      <td>a</td>\n",
       "    </tr>\n",
       "  </tbody>\n",
       "</table>\n",
       "</div>"
      ],
      "text/plain": [
       "      col_a col_b\n",
       "idx              \n",
       "idx1      1    10\n",
       "idx2      2    20\n",
       "idx3      3     a"
      ]
     },
     "execution_count": 7,
     "metadata": {},
     "output_type": "execute_result"
    }
   ],
   "source": [
    "#Instance a preflight.CheckDataFrame class with DemoData Table as argument\n",
    "ckdf = CheckDataFrame(path_err_codes, tbl=tbls.DemoData)\n",
    "\n",
    "#Check that DataFrame contains its required columns\n",
    "IsOk = ckdf.ContainsRequiredCols()\n",
    "\n",
    "#Default index column is hard-coded input to Table instance and can be set automatically\n",
    "tbls.DemoData.ResetDefaultIndex()\n",
    "\n",
    "#print the indexed DataFrame\n",
    "tbls.DemoData.df"
   ]
  },
  {
   "cell_type": "code",
   "execution_count": 8,
   "metadata": {},
   "outputs": [
    {
     "name": "stdout",
     "output_type": "stream",
     "text": [
      "ERROR: Column must contain only non-null numeric values: col_b\n"
     ]
    }
   ],
   "source": [
    "#Check that indexed DataFrame column values are all numeric (fails due to string value 'a')\n",
    "if IsOk: IsOk = ckdf.LstColsAllNumeric()"
   ]
  }
 ],
 "metadata": {
  "kernelspec": {
   "display_name": "Python 3",
   "language": "python",
   "name": "python3"
  },
  "language_info": {
   "codemirror_mode": {
    "name": "ipython",
    "version": 3
   },
   "file_extension": ".py",
   "mimetype": "text/x-python",
   "name": "python",
   "nbconvert_exporter": "python",
   "pygments_lexer": "ipython3",
   "version": "3.8.8"
  }
 },
 "nbformat": 4,
 "nbformat_minor": 4
}
