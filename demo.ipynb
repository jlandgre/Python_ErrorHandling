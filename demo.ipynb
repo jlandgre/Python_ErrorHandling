{
 "cells": [
  {
   "cell_type": "markdown",
   "metadata": {},
   "source": [
    "## Demos of ErrorHandle and Preflight Checks\n",
    "This notebook demonstrates three ways of messaging a script's user regarding error conditions. The ErrorHandle class can manage checking and reporting general conditions within a program. Preflight (preflight.py) is a special case that uses ErrorHandle and generic functions to precheck input files (preflight.CheckExcelFiles class) and input DataFrames (preflight.CheckDataFrame class). All use cases rely on the table in admin file ErrorCodes.xlsx to look up messages. </br></br>\n",
    "JDL 2/12/24"
   ]
  },
  {
   "cell_type": "code",
   "execution_count": 1,
   "metadata": {},
   "outputs": [],
   "source": [
    "import os, sys\n",
    "import pandas as pd\n",
    "import logging\n",
    "logging.basicConfig(level=logging.ERROR, filename='demo.log', format='%(message)s')\n",
    "\n",
    "path_libs = os.getcwd() + os.sep + 'libs' + os.sep\n",
    "if not path_libs in sys.path: sys.path.append(path_libs)\n",
    "\n",
    "#Add the libs subdirectory to sys.path and import the libraries\n",
    "from libs.error_handling import ErrorHandle\n",
    "from libs.preflight import CheckDataFrame\n",
    "import util\n"
   ]
  },
  {
   "cell_type": "markdown",
   "metadata": {},
   "source": [
    "### Case 1: Error Handling in procedural code\n",
    "* Instance ErrorHandle class to use for checking conditions during processing\n",
    "* Set .Locn for error message lookup by code. Base and code-speciifc rows are in ErrorCodes.xlsx\n",
    "* This example illustrates using Python logging to write to a log file (demo.log initialized above in the `logging.basicConfig()` command). It reinitializes the file at the beginning of the cell\n"
   ]
  },
  {
   "cell_type": "code",
   "execution_count": 2,
   "metadata": {},
   "outputs": [
    {
     "name": "stdout",
     "output_type": "stream",
     "text": [
      "Procedural Demo\n",
      "ERROR: x + y should be less than or equal to 4. Sum: 5\n"
     ]
    }
   ],
   "source": [
    "errs = ErrorHandle(path_libs, ErrMsgHeader='Procedural Demo', IsLog=True)\n",
    "errs.reset_log_file(logging.getLogger())\n",
    "\n",
    "#This string is the lookup key for getting the base error code from ErrorCodes.xlsx\n",
    "errs.Locn = 'ProceduralDemo'\n",
    "\n",
    "# Example procedural code with an error check\n",
    "x = 2\n",
    "y = 3\n",
    "sum = x + y\n",
    "\n",
    "#Check that x+ y is less than 4 --\n",
    "#\"1\" is the routine-specific error code (added to the self.Locn base error code to get the lookup error code)\n",
    "if errs.is_fail(sum > 4, 1, err_param=str(sum)): errs.RecordErr()\n",
    "    #Insert other steps to close things down if fatal error was deetected"
   ]
  },
  {
   "cell_type": "markdown",
   "metadata": {},
   "source": [
    "### Case 2: Error Handling within a Class\n",
    "* Passing Locn argument as util.current_fn() tells .is_fail to look up the error by name of the function where the error occurred\n",
    "* errs can either be instanced in __init__() or [better for toggling between test and production] instanced externally and passed to __init__() as an argument"
   ]
  },
  {
   "cell_type": "code",
   "execution_count": 3,
   "metadata": {},
   "outputs": [
    {
     "name": "stdout",
     "output_type": "stream",
     "text": [
      "ERROR: x * y should be less than or equal to 5. Product: 6\n",
      "Sum, Product: (5, 6)\n"
     ]
    }
   ],
   "source": [
    "class SumAndProduct():\n",
    "    def __init__(self, path_libs, x, y):\n",
    "        self.x = x\n",
    "        self.y = y\n",
    "        self.sum = None\n",
    "        self.product = None\n",
    "        self.errs = ErrorHandle(path_libs, ErrMsgHeader='', \n",
    "                                IsHandle=True, IsLog=True)\n",
    "        self.errs.reset_log_file(logging.getLogger())\n",
    "\n",
    "    @property\n",
    "    def procedure_to_do_all_steps(self):\n",
    "        self.calculate_sum()\n",
    "        if not self.errs.IsErr: self.calculate_product()\n",
    "        return self.sum, self.product\n",
    "\n",
    "    def calculate_sum(self):\n",
    "        self.sum = self.x + self.y\n",
    "        if self.errs.is_fail(self.sum > 6, 1, Locn=util.current_fn(), err_param=str(self.sum)): self.errs.RecordErr()\n",
    "\n",
    "    def calculate_product(self):\n",
    "        self.product = self.x * self.y\n",
    "        if self.errs.is_fail(self.product > 5, 1, Locn=util.current_fn(), err_param=str(self.product)): self.errs.RecordErr()\n",
    "\n",
    "print('Sum, Product:', SumAndProduct(path_libs, 2, 3).procedure_to_do_all_steps)"
   ]
  },
  {
   "cell_type": "markdown",
   "metadata": {},
   "source": [
    "### Case 3: Performing Preflight Checks on Input Data"
   ]
  },
  {
   "cell_type": "code",
   "execution_count": 4,
   "metadata": {},
   "outputs": [
    {
     "name": "stdout",
     "output_type": "stream",
     "text": [
      "ERROR: Column must contain only non-blank numeric values: col_b\n"
     ]
    }
   ],
   "source": [
    "#Some sample input data to check\n",
    "df = pd.DataFrame(data={'col_a':[1,2,3], 'col_b':[4,5,'a']})\n",
    "\n",
    "#Instance a CheckDataFrame class with an ErrorHandle object as an attribute (self.errs)\n",
    "ckdf = CheckDataFrame(df, ErrorHandle(path_libs, ErrMsgHeader='', IsPrint=True))\n",
    "\n",
    "#Check that DataFrame col_b is all numeric\n",
    "IsOk = ckdf.ColAllNumeric('col_b')\n",
    "#Other programming steps or prefight checks...\n"
   ]
  }
 ],
 "metadata": {
  "kernelspec": {
   "display_name": "base",
   "language": "python",
   "name": "python3"
  },
  "language_info": {
   "codemirror_mode": {
    "name": "ipython",
    "version": 3
   },
   "file_extension": ".py",
   "mimetype": "text/x-python",
   "name": "python",
   "nbconvert_exporter": "python",
   "pygments_lexer": "ipython3",
   "version": "3.8.8"
  }
 },
 "nbformat": 4,
 "nbformat_minor": 2
}
